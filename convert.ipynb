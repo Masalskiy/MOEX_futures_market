{
 "cells": [
  {
   "cell_type": "code",
   "execution_count": 40,
   "metadata": {},
   "outputs": [],
   "source": [
    "import pandas as pd"
   ]
  },
  {
   "cell_type": "code",
   "execution_count": 41,
   "metadata": {},
   "outputs": [],
   "source": [
    "df = pd.read_csv(\"20181229_fut_ord.csv\", low_memory=False, dtype={'SYMBOL':object,\n",
    "                                                                  'SYSTEM':object,\n",
    "                                                                  'TYPE':object,\n",
    "                                                                  'MOMENT':int,\n",
    "                                                                  'ID':object,\n",
    "                                                                  'ACTION':object,\n",
    "                                                                  'PRICE':object,\n",
    "                                                                  'VOLUME':object,\n",
    "                                                                  'ID_DEAL':object,\n",
    "                                                                  'PRICE_DEAL':object\n",
    "                                                                  })"
   ]
  },
  {
   "cell_type": "code",
   "execution_count": 8,
   "metadata": {},
   "outputs": [
    {
     "data": {
      "text/html": [
       "<div>\n",
       "<style scoped>\n",
       "    .dataframe tbody tr th:only-of-type {\n",
       "        vertical-align: middle;\n",
       "    }\n",
       "\n",
       "    .dataframe tbody tr th {\n",
       "        vertical-align: top;\n",
       "    }\n",
       "\n",
       "    .dataframe thead th {\n",
       "        text-align: right;\n",
       "    }\n",
       "</style>\n",
       "<table border=\"1\" class=\"dataframe\">\n",
       "  <thead>\n",
       "    <tr style=\"text-align: right;\">\n",
       "      <th></th>\n",
       "      <th>SYMBOL</th>\n",
       "      <th>SYSTEM</th>\n",
       "      <th>TYPE</th>\n",
       "      <th>MOMENT</th>\n",
       "      <th>ID</th>\n",
       "      <th>ACTION</th>\n",
       "      <th>PRICE</th>\n",
       "      <th>VOLUME</th>\n",
       "      <th>ID_DEAL</th>\n",
       "      <th>PRICE_DEAL</th>\n",
       "    </tr>\n",
       "  </thead>\n",
       "  <tbody>\n",
       "    <tr>\n",
       "      <th>0</th>\n",
       "      <td>GZM9</td>\n",
       "      <td>F</td>\n",
       "      <td>B</td>\n",
       "      <td>20181228185033900</td>\n",
       "      <td>33948174935</td>\n",
       "      <td>1</td>\n",
       "      <td>14092.00000</td>\n",
       "      <td>2</td>\n",
       "      <td>NaN</td>\n",
       "      <td>NaN</td>\n",
       "    </tr>\n",
       "    <tr>\n",
       "      <th>1</th>\n",
       "      <td>GZM9</td>\n",
       "      <td>F</td>\n",
       "      <td>B</td>\n",
       "      <td>20181228185033907</td>\n",
       "      <td>33948174936</td>\n",
       "      <td>1</td>\n",
       "      <td>14208.00000</td>\n",
       "      <td>1</td>\n",
       "      <td>NaN</td>\n",
       "      <td>NaN</td>\n",
       "    </tr>\n",
       "    <tr>\n",
       "      <th>2</th>\n",
       "      <td>SAH9</td>\n",
       "      <td>F</td>\n",
       "      <td>B</td>\n",
       "      <td>20181228185033913</td>\n",
       "      <td>33948174939</td>\n",
       "      <td>1</td>\n",
       "      <td>14.78000</td>\n",
       "      <td>10</td>\n",
       "      <td>NaN</td>\n",
       "      <td>NaN</td>\n",
       "    </tr>\n",
       "    <tr>\n",
       "      <th>3</th>\n",
       "      <td>GZH9</td>\n",
       "      <td>F</td>\n",
       "      <td>B</td>\n",
       "      <td>20181228185033920</td>\n",
       "      <td>33948174941</td>\n",
       "      <td>1</td>\n",
       "      <td>14351.00000</td>\n",
       "      <td>1</td>\n",
       "      <td>NaN</td>\n",
       "      <td>NaN</td>\n",
       "    </tr>\n",
       "    <tr>\n",
       "      <th>4</th>\n",
       "      <td>GZH9</td>\n",
       "      <td>F</td>\n",
       "      <td>B</td>\n",
       "      <td>20181228185033920</td>\n",
       "      <td>33948174942</td>\n",
       "      <td>1</td>\n",
       "      <td>14303.00000</td>\n",
       "      <td>1</td>\n",
       "      <td>NaN</td>\n",
       "      <td>NaN</td>\n",
       "    </tr>\n",
       "  </tbody>\n",
       "</table>\n",
       "</div>"
      ],
      "text/plain": [
       "  SYMBOL SYSTEM TYPE             MOMENT           ID ACTION        PRICE  \\\n",
       "0   GZM9      F    B  20181228185033900  33948174935      1  14092.00000   \n",
       "1   GZM9      F    B  20181228185033907  33948174936      1  14208.00000   \n",
       "2   SAH9      F    B  20181228185033913  33948174939      1     14.78000   \n",
       "3   GZH9      F    B  20181228185033920  33948174941      1  14351.00000   \n",
       "4   GZH9      F    B  20181228185033920  33948174942      1  14303.00000   \n",
       "\n",
       "  VOLUME ID_DEAL PRICE_DEAL  \n",
       "0      2     NaN        NaN  \n",
       "1      1     NaN        NaN  \n",
       "2     10     NaN        NaN  \n",
       "3      1     NaN        NaN  \n",
       "4      1     NaN        NaN  "
      ]
     },
     "execution_count": 8,
     "metadata": {},
     "output_type": "execute_result"
    }
   ],
   "source": [
    "df.head()"
   ]
  },
  {
   "cell_type": "code",
   "execution_count": 42,
   "metadata": {},
   "outputs": [],
   "source": [
    "df = df.drop(columns=['SYSTEM', 'ID_DEAL', 'PRICE_DEAL'])"
   ]
  },
  {
   "cell_type": "code",
   "execution_count": 43,
   "metadata": {},
   "outputs": [],
   "source": [
    "df.to_csv('20181229_fut_ord_changed.csv', index=False)"
   ]
  },
  {
   "cell_type": "code",
   "execution_count": 13,
   "metadata": {},
   "outputs": [],
   "source": [
    "import seaborn as sns"
   ]
  },
  {
   "cell_type": "code",
   "execution_count": 21,
   "metadata": {},
   "outputs": [
    {
     "data": {
      "text/plain": [
       "<Axes: xlabel='MOMENT', ylabel='Count'>"
      ]
     },
     "execution_count": 21,
     "metadata": {},
     "output_type": "execute_result"
    },
    {
     "data": {
      "image/png": "[encoded data removed]",
      "text/plain": [
       "<Figure size 640x480 with 1 Axes>"
      ]
     },
     "metadata": {},
     "output_type": "display_data"
    }
   ],
   "source": [
    "sns.histplot(data = df.MOMENT, kde = True)"
   ]
  },
  {
   "cell_type": "code",
   "execution_count": 44,
   "metadata": {},
   "outputs": [],
   "source": [
    "import datetime\n",
    "from datetime import timedelta"
   ]
  },
  {
   "cell_type": "code",
   "execution_count": 55,
   "metadata": {},
   "outputs": [],
   "source": [
    "# нужно подкорректировать т. не совсем ясно во сколько начинаются торги\n",
    "def create_ddl_partition_table(year, month, day, df):\n",
    "    date_start = datetime.date(year=year, month=month, day=day)\n",
    "    moment_start = str(date_start.year) + str(date_start.month) + str(date_start.day) + \"000000000\"\n",
    "    delta = timedelta(days=1)\n",
    "    date_end = date_start+delta\n",
    "    moment_end = str(date_end.year) + str(date_end.month) + str(date_start.day) + \"235959999\"\n",
    "\n",
    "    CREATE_PARTITION_DAY_TABLE = f\"\"\"CREATE TABLE current_rate_y{year}m{month}d{day}\n",
    "                                PARTITION OF current_rate \n",
    "                                FOR VALUES FROM ({moment_start}) TO ({moment_end})\n",
    "                                PARTITION BY LIST (tool);\"\"\"\n",
    "    result_ddl_query = CREATE_PARTITION_DAY_TABLE + \"\\n\"\n",
    "    tools = df.SYMBOL.unique()\n",
    "    for tool in tools:\n",
    "        # создание партиционированных таблиц по типу инструмента\n",
    "        CREATE_PARTITION_TOOL_TABLE = f\"\"\"CREATE TABLE current_rate_y{year}m{month}d{day}_{tool} \n",
    "                                    PARTITION OF current_rate_y{year}m{month}d{day} \n",
    "                                    FOR VALUES IN ('{tool}');\"\"\"\n",
    "        # создание индекса для поиска по id заявки\n",
    "        CREATE_PARTITION_TOOL_TABLE_INDEX =f\"\"\"CREATE INDEX ON current_rate_y{year}m{month}d{day}_{tool} (id_request);\"\"\"\n",
    "        result_ddl_query = result_ddl_query + CREATE_PARTITION_TOOL_TABLE + \"\\n\" \\\n",
    "                         + CREATE_PARTITION_TOOL_TABLE_INDEX + \"\\n\"\n",
    "\n",
    "    # Open the file for writing\n",
    "    with open(f\"\"\"sql_scripts/partition_table_y{year}m{month}d{day}.sql\"\"\", 'w') as f:\n",
    "        f.write(result_ddl_query)"
   ]
  },
  {
   "cell_type": "code",
   "execution_count": 56,
   "metadata": {},
   "outputs": [],
   "source": [
    "create_ddl_partition_table(2018, 12, 28, df)\n",
    "create_ddl_partition_table(2018, 12, 29, df)\n"
   ]
  }
 ],
 "metadata": {
  "kernelspec": {
   "display_name": "Python 3",
   "language": "python",
   "name": "python3"
  },
  "language_info": {
   "codemirror_mode": {
    "name": "ipython",
    "version": 3
   },
   "file_extension": ".py",
   "mimetype": "text/x-python",
   "name": "python",
   "nbconvert_exporter": "python",
   "pygments_lexer": "ipython3",
   "version": "3.10.12"
  }
 },
 "nbformat": 4,
 "nbformat_minor": 2
}
