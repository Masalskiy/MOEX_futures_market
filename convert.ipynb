{
 "cells": [
  {
   "cell_type": "code",
   "execution_count": 1,
   "metadata": {},
   "outputs": [],
   "source": [
    "import pandas as pd"
   ]
  },
  {
   "cell_type": "code",
   "execution_count": 2,
   "metadata": {},
   "outputs": [],
   "source": [
    "df = pd.read_csv(\"20181229_fut_ord.csv\", low_memory=False, dtype={'SYMBOL':object,\n",
    "                                                                  'SYSTEM':object,\n",
    "                                                                  'TYPE':object,\n",
    "                                                                  'MOMENT':object,\n",
    "                                                                  'ID':object,\n",
    "                                                                  'ACTION':object,\n",
    "                                                                  'PRICE':object,\n",
    "                                                                  'VOLUME':object,\n",
    "                                                                  'ID_DEAL':object,\n",
    "                                                                  'PRICE_DEAL':object\n",
    "                                                                  })"
   ]
  },
  {
   "cell_type": "code",
   "execution_count": 3,
   "metadata": {},
   "outputs": [],
   "source": [
    "df = df.drop(columns=['SYSTEM', 'ID_DEAL', 'PRICE_DEAL'])"
   ]
  },
  {
   "cell_type": "code",
   "execution_count": 4,
   "metadata": {},
   "outputs": [],
   "source": [
    "df.to_csv('20181229_fut_ord_changed.csv', index=False)"
   ]
  },
  {
   "cell_type": "code",
   "execution_count": 5,
   "metadata": {},
   "outputs": [],
   "source": [
    "tools = df.SYMBOL.unique()"
   ]
  },
  {
   "cell_type": "code",
   "execution_count": 15,
   "metadata": {},
   "outputs": [],
   "source": [
    "import datetime\n",
    "from datetime import timedelta"
   ]
  },
  {
   "cell_type": "code",
   "execution_count": 25,
   "metadata": {},
   "outputs": [],
   "source": [
    "def create_ddl_partition_table(year, month, day):\n",
    "    date_start = datetime.date(year=year, month=month, day=day)\n",
    "    moment_start = str(date_start.year) + str(date_start.month) + str(date_start.day) + \"000000000\"\n",
    "    delta = timedelta(days=1)\n",
    "    date_end = date_start+delta\n",
    "    moment_end = str(date_end.year) + str(date_end.month) + str(date_end.day) + \"235959999\"\n",
    "\n",
    "    CREATE_PARTITION_DAY_TABLE = f\"\"\"CREATE TABLE current_rate_y{year}m{month}d{day}\n",
    "                                PARTITION OF current_rate \n",
    "                                FOR VALUES FROM ({moment_start}) TO ({moment_end})\n",
    "                                PARTITION BY LIST (tool);\"\"\"\n",
    "    result_ddl_query = CREATE_PARTITION_DAY_TABLE + \"\\n\"\n",
    "\n",
    "    for tool in tools:\n",
    "        # создание партиционированных таблиц по типу инструмента\n",
    "        CREATE_PARTITION_TOOL_TABLE = f\"\"\"CREATE TABLE current_rate_y{year}m{month}d{day}_{tool} \n",
    "                                    PARTITION OF current_rate_y{year}m{month}d{day} \n",
    "                                    FOR VALUES IN ('{tool}');\"\"\"\n",
    "        # создание индекса для поиска по id заявки\n",
    "        CREATE_PARTITION_TOOL_TABLE_INDEX =f\"\"\"CREATE INDEX ON current_rate_y{year}m{month}d{day}_{tool} (id_request);\"\"\"\n",
    "        result_ddl_query = result_ddl_query + CREATE_PARTITION_TOOL_TABLE + \"\\n\" \\\n",
    "                         + CREATE_PARTITION_TOOL_TABLE_INDEX + \"\\n\"\n",
    "\n",
    "    # Open the file for writing\n",
    "    with open(f\"\"\"sql_scripts/partition_table_y{year}m{month}d{day}.sql\"\"\", 'w') as f:\n",
    "        f.write(result_ddl_query)\n",
    "    "
   ]
  },
  {
   "cell_type": "code",
   "execution_count": 26,
   "metadata": {},
   "outputs": [],
   "source": [
    "create_ddl_partition_table(2018, 12, 28)\n",
    "create_ddl_partition_table(2018, 12, 29)\n"
   ]
  },
  {
   "cell_type": "code",
   "execution_count": null,
   "metadata": {},
   "outputs": [],
   "source": []
  }
 ],
 "metadata": {
  "kernelspec": {
   "display_name": "Python 3",
   "language": "python",
   "name": "python3"
  },
  "language_info": {
   "codemirror_mode": {
    "name": "ipython",
    "version": 3
   },
   "file_extension": ".py",
   "mimetype": "text/x-python",
   "name": "python",
   "nbconvert_exporter": "python",
   "pygments_lexer": "ipython3",
   "version": "3.10.12"
  }
 },
 "nbformat": 4,
 "nbformat_minor": 2
}
